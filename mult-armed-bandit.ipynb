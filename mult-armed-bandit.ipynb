{
 "cells": [
  {
   "cell_type": "code",
   "execution_count": 12,
   "metadata": {},
   "outputs": [],
   "source": [
    "import numpy as np\n",
    "import random"
   ]
  },
  {
   "cell_type": "code",
   "execution_count": 13,
   "metadata": {},
   "outputs": [],
   "source": [
    "class MultiArmedBandit:\n",
    "    def __init__(self, k):\n",
    "        self.k = k\n",
    "        self.probs = np.random.rand(k)  # Random probabilities for each arm\n",
    "    \n",
    "    def reset(self):\n",
    "        return 0\n",
    "    \n",
    "    def step(self, action):\n",
    "        reward = 1 if random.random() < self.probs[action] else 0\n",
    "        return 0, reward, False, False, {}\n",
    "\n",
    "# Initialize the multi-armed bandit environment\n",
    "env_bandit = MultiArmedBandit(k=10)\n"
   ]
  },
  {
   "cell_type": "code",
   "execution_count": 14,
   "metadata": {},
   "outputs": [
    {
     "name": "stdout",
     "output_type": "stream",
     "text": [
      "Optimal Policy (Bandit - Q-Learning): 8\n",
      "Q-Table (Bandit - Q-Learning): [0.5592774  0.34444699 0.32092182 0.40638371 0.72993786 0.48354923\n",
      " 0.39438064 0.31653592 0.92905259 0.71095371]\n"
     ]
    }
   ],
   "source": [
    "def q_learning_bandit(env, episodes=1000, alpha=0.1, gamma=0.99, epsilon=0.1,n_steps=500):\n",
    "    Q = np.zeros(env.k)\n",
    "    action_counts = np.zeros(env.k)\n",
    "    for _ in range(episodes):\n",
    "        state = env.reset()\n",
    "        for _ in range(n_steps):\n",
    "            if random.uniform(0, 1) < epsilon:\n",
    "                action = random.choice(range(env.k))\n",
    "            else:\n",
    "                action = np.argmax(Q)\n",
    "            _, reward, _, _, _ = env.step(action)\n",
    "            Q[action] = Q[action] + alpha * (reward - Q[action])\n",
    "            action_counts[action] += 1\n",
    "    policy = np.argmax(Q)\n",
    "    return policy, Q\n",
    "\n",
    "policy_bandit_ql, Q_table_bandit = q_learning_bandit(env_bandit)\n",
    "print(\"Optimal Policy (Bandit - Q-Learning):\", policy_bandit_ql)\n",
    "print(\"Q-Table (Bandit - Q-Learning):\", Q_table_bandit)\n"
   ]
  },
  {
   "cell_type": "code",
   "execution_count": 15,
   "metadata": {},
   "outputs": [
    {
     "name": "stdout",
     "output_type": "stream",
     "text": [
      "Selected Action (Bandit - Epsilon-Greedy): 6\n"
     ]
    }
   ],
   "source": [
    "def epsilon_greedy_bandit(Q, epsilon):\n",
    "    if random.uniform(0, 1) < epsilon:\n",
    "        return np.random.choice(len(Q))\n",
    "    else:\n",
    "        return np.argmax(Q)\n",
    "\n",
    "# Example usage\n",
    "action = epsilon_greedy_bandit(Q_table_bandit, epsilon=0.1)\n",
    "print(\"Selected Action (Bandit - Epsilon-Greedy):\", action)\n"
   ]
  },
  {
   "cell_type": "code",
   "execution_count": 16,
   "metadata": {},
   "outputs": [
    {
     "name": "stderr",
     "output_type": "stream",
     "text": [
      "/tmp/ipykernel_38663/3637618697.py:3: RuntimeWarning: invalid value encountered in sqrt\n",
      "  ucb_values = Q + c * np.sqrt(np.log(total_counts) / (N + 1e-10))\n"
     ]
    },
    {
     "name": "stdout",
     "output_type": "stream",
     "text": [
      "Optimal Policy (Bandit - UCB): 8\n",
      "Q-Table (Bandit - UCB): [0.28186689 0.17360517 0.28155902 0.16992931 0.39260842 0.35092359\n",
      " 0.30876304 0.23070885 0.96974403 0.47365267]\n"
     ]
    }
   ],
   "source": [
    "def ucb_selection_bandit(Q, N, c=1):\n",
    "    total_counts = np.sum(N) + 1e-10\n",
    "    ucb_values = Q + c * np.sqrt(np.log(total_counts) / (N + 1e-10))\n",
    "    return np.argmax(ucb_values)\n",
    "\n",
    "def ucb_learning_bandit(env, episodes=1000, alpha=0.1, gamma=0.99, c=1,n_steps=500):\n",
    "    Q = np.zeros(env.k)\n",
    "    N = np.zeros(env.k)\n",
    "    for _ in range(episodes):\n",
    "        state = env.reset()\n",
    "        for _ in range(n_steps):\n",
    "            action = ucb_selection_bandit(Q, N, c)\n",
    "            _, reward, _, _, _ = env.step(action)\n",
    "            Q[action] = Q[action] + alpha * (reward - Q[action])\n",
    "            N[action] += 1\n",
    "    policy = np.argmax(Q)\n",
    "    return policy, Q\n",
    "\n",
    "policy_bandit_ucb, Q_table_bandit = ucb_learning_bandit(env_bandit)\n",
    "print(\"Optimal Policy (Bandit - UCB):\", policy_bandit_ucb)\n",
    "print(\"Q-Table (Bandit - UCB):\", Q_table_bandit)\n"
   ]
  }
 ],
 "metadata": {
  "kernelspec": {
   "display_name": ".env",
   "language": "python",
   "name": "python3"
  },
  "language_info": {
   "codemirror_mode": {
    "name": "ipython",
    "version": 3
   },
   "file_extension": ".py",
   "mimetype": "text/x-python",
   "name": "python",
   "nbconvert_exporter": "python",
   "pygments_lexer": "ipython3",
   "version": "3.11.6"
  }
 },
 "nbformat": 4,
 "nbformat_minor": 2
}
